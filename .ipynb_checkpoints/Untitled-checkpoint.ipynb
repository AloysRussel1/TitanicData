{
 "cells": [
  {
   "cell_type": "code",
   "execution_count": 1,
   "id": "7f055e21-8d55-4524-b6a3-b9e31e1a4bdb",
   "metadata": {},
   "outputs": [
    {
     "name": "stdout",
     "output_type": "stream",
     "text": [
      "Hello world\n"
     ]
    }
   ],
   "source": [
    "print('Hello world')"
   ]
  },
  {
   "cell_type": "code",
   "execution_count": 3,
   "id": "bdef895b-760c-4289-8f26-3a05f36aec4a",
   "metadata": {},
   "outputs": [],
   "source": [
    "import pandas as pd"
   ]
  },
  {
   "cell_type": "code",
   "execution_count": 5,
   "id": "c014daaf-6912-4e30-9353-188165df6f4e",
   "metadata": {},
   "outputs": [],
   "source": [
    "data = pd.read_csv('vgsales.csv')"
   ]
  },
  {
   "cell_type": "code",
   "execution_count": null,
   "id": "145aa51d-3c3c-4423-9ad3-f855b10361ea",
   "metadata": {},
   "outputs": [],
   "source": []
  }
 ],
 "metadata": {
  "kernelspec": {
   "display_name": "Python 3 (ipykernel)",
   "language": "python",
   "name": "python3"
  },
  "language_info": {
   "codemirror_mode": {
    "name": "ipython",
    "version": 3
   },
   "file_extension": ".py",
   "mimetype": "text/x-python",
   "name": "python",
   "nbconvert_exporter": "python",
   "pygments_lexer": "ipython3",
   "version": "3.12.7"
  }
 },
 "nbformat": 4,
 "nbformat_minor": 5
}
